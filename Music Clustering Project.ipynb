{
 "cells": [
  {
   "cell_type": "markdown",
   "id": "4fbc1c5a",
   "metadata": {},
   "source": [
    "<h3> Imports"
   ]
  },
  {
   "cell_type": "code",
   "execution_count": null,
   "id": "fb6ba24c",
   "metadata": {},
   "outputs": [],
   "source": [
    "import os\n",
    "import numpy as np\n",
    "import pandas as pd\n",
    "import seaborn as sns\n",
    "import plotly.express as px \n",
    "import matplotlib.pyplot as plt\n",
    "%matplotlib inline\n",
    "\n",
    "from sklearn.cluster import KMeans,DBSCAN\n",
    "from sklearn.mixture import GaussianMixture\n",
    "from sklearn.preprocessing import StandardScaler\n",
    "from sklearn import preprocessing\n",
    "from sklearn.pipeline import Pipeline\n",
    "from sklearn.manifold import TSNE\n",
    "from sklearn.neighbors import NearestNeighbors\n",
    "from sklearn.decomposition import PCA\n",
    "from sklearn.metrics import euclidean_distances, silhouette_score, pairwise_distances, calinski_harabasz_score, davies_bouldin_score\n",
    "from scipy.spatial.distance import cdist\n",
    "\n",
    "import skfuzzy as fuzz\n",
    "from skfuzzy import cmeans\n",
    "from sklearn.base import BaseEstimator, ClusterMixin\n",
    "\n",
    "from kneed import KneeLocator\n",
    "# from collections import defaultdict\n",
    "# import difflib"
   ]
  },
  {
   "cell_type": "code",
   "execution_count": null,
   "id": "de12d09c",
   "metadata": {},
   "outputs": [],
   "source": [
    "data = pd.read_csv(\"data/data.csv\")\n",
    "genre_data = pd.read_csv('data/data_by_genres.csv')\n",
    "year_data = pd.read_csv('data/data_by_year.csv')\n",
    "artist_data = pd.read_csv('data/data_by_artist.csv')"
   ]
  },
  {
   "cell_type": "markdown",
   "id": "82b192b8",
   "metadata": {},
   "source": [
    "<h3> EDA"
   ]
  },
  {
   "cell_type": "code",
   "execution_count": null,
   "id": "2c4f25ac",
   "metadata": {},
   "outputs": [],
   "source": [
    "print(\"data:\")\n",
    "display(data.head(2))\n",
    "\n",
    "print()\n",
    "print(\"data_by_genres:\")\n",
    "display(genre_data.head(2))\n",
    "\n",
    "print()\n",
    "print(\"data_by_year:\")\n",
    "display(year_data.head(2))\n",
    "\n",
    "print()\n",
    "print(\"data_by_artist:\")\n",
    "display(artist_data.head(2))"
   ]
  },
  {
   "cell_type": "code",
   "execution_count": null,
   "id": "f61eb33c",
   "metadata": {},
   "outputs": [],
   "source": [
    "print(\"data info: \")\n",
    "\n",
    "print(f\"Any Null Data Found: {data.isnull().any().any()}\")\n",
    "print()\n",
    "\n",
    "print(data.dtypes)\n",
    "data.describe()"
   ]
  },
  {
   "cell_type": "code",
   "execution_count": null,
   "id": "53dfe8c4",
   "metadata": {},
   "outputs": [],
   "source": [
    "print(\"Genre Data Info: \")\n",
    "\n",
    "print(f\"Any Null Data Found: {genre_data.isnull().any().any()}\")\n",
    "print()\n",
    "\n",
    "print(genre_data.dtypes)\n",
    "genre_data.describe()"
   ]
  },
  {
   "cell_type": "code",
   "execution_count": null,
   "id": "5798fb39",
   "metadata": {},
   "outputs": [],
   "source": [
    "print(\"Year Data Info: \")\n",
    "\n",
    "print(f\"Any Null Data Found: {year_data.isnull().any().any()}\")\n",
    "print()\n",
    "\n",
    "print(year_data.dtypes)\n",
    "year_data.describe()"
   ]
  },
  {
   "cell_type": "code",
   "execution_count": null,
   "id": "3f87fe46",
   "metadata": {},
   "outputs": [],
   "source": [
    "print(\"Artist Data Info: \")\n",
    "\n",
    "print(f\"Any Null Data Found: {artist_data.isnull().any().any()}\")\n",
    "print()\n",
    "\n",
    "print(artist_data.dtypes)\n",
    "artist_data.describe()"
   ]
  },
  {
   "cell_type": "code",
   "execution_count": null,
   "id": "c9e53e86",
   "metadata": {},
   "outputs": [],
   "source": [
    "#create decades column feature engineering\n",
    "data[\"decade\"] = data[\"year\"].apply(lambda year : f\"{(year//10)*10}s\")\n",
    "\n",
    "#graph it\n",
    "sns.countplot(x= data['decade'])\n",
    "\n",
    "#labels and title\n",
    "plt.xlabel('Decades')\n",
    "plt.ylabel('Count')\n",
    "plt.title('Count of songs released in each Decade')\n",
    "\n",
    "#rotate x vertically\n",
    "plt.xticks(rotation=60)\n",
    "\n",
    "# Show the plot\n",
    "plt.show()"
   ]
  },
  {
   "cell_type": "code",
   "execution_count": null,
   "id": "39fdcc22",
   "metadata": {},
   "outputs": [],
   "source": [
    "sound_features = ['acousticness', 'danceability', 'energy', 'instrumentalness', 'valence']\n",
    "fig = px.line(year_data, x = 'year', y = sound_features, title='Trend of various sound features over decades')\n",
    "fig.show()"
   ]
  },
  {
   "cell_type": "code",
   "execution_count": null,
   "id": "3b135281",
   "metadata": {},
   "outputs": [],
   "source": [
    "fig = px.line(year_data, x='year', y='loudness',title='Trend of loudness over decades')\n",
    "fig.show()"
   ]
  },
  {
   "cell_type": "code",
   "execution_count": null,
   "id": "401816ae",
   "metadata": {},
   "outputs": [],
   "source": [
    "#get data for these genres\n",
    "rock_data = genre_data[genre_data[\"genres\"] == \"rock\"]\n",
    "rap_data = genre_data[genre_data[\"genres\"] == \"rap\"]\n",
    "classical_data = genre_data[genre_data[\"genres\"] == \"classical\"]\n",
    "indie_rock_data = genre_data[genre_data[\"genres\"] == \"indie rock\"]\n",
    "metal_data = genre_data[genre_data[\"genres\"] == \"metal\"]\n",
    "country_data = genre_data[genre_data[\"genres\"] == \"country\"]\n",
    "electro_data = genre_data[genre_data[\"genres\"] == \"electro\"]\n",
    "pop_data = genre_data[genre_data[\"genres\"] == \"pop\"]\n",
    "jazz_data = genre_data[genre_data[\"genres\"] == \"jazz\"]\n",
    "techno_data = genre_data[genre_data[\"genres\"] == \"techno\"]\n",
    "\n",
    "#combine them\n",
    "combined_genres = pd.concat([rock_data, rap_data, classical_data, indie_rock_data, metal_data, \n",
    "                             country_data, electro_data, pop_data, jazz_data, techno_data])\n",
    "\n",
    "#graph it\n",
    "fig = px.bar(combined_genres, x='genres', y=sound_features, barmode='group',\n",
    "            title='Trend of various sound features over 10 most well known genres')\n",
    "fig.show()"
   ]
  },
  {
   "cell_type": "code",
   "execution_count": null,
   "id": "9bfcbe18",
   "metadata": {},
   "outputs": [],
   "source": [
    "top10_genres = genre_data.nlargest(10, 'popularity')\n",
    "\n",
    "fig = px.bar(top10_genres, x='genres', y=sound_features, barmode='group',\n",
    "            title='Trend of various sound features over top 10 genres')\n",
    "fig.show()"
   ]
  },
  {
   "cell_type": "code",
   "execution_count": null,
   "id": "fd747685",
   "metadata": {},
   "outputs": [],
   "source": [
    "top10_popular_artists = artist_data.nlargest(10, 'popularity')\n",
    "top10_most_song_produced_artists = artist_data.nlargest(10, 'count')\n",
    "\n",
    "print('Top 10 Artists that produced most songs:')\n",
    "top10_most_song_produced_artists[['count','artists']].sort_values('count',ascending=False)"
   ]
  },
  {
   "cell_type": "markdown",
   "id": "dd7dca8c",
   "metadata": {},
   "source": [
    "<h3> Clustering methods"
   ]
  },
  {
   "cell_type": "code",
   "execution_count": null,
   "id": "a4ab6cc4",
   "metadata": {},
   "outputs": [],
   "source": [
    "data = pd.read_csv(\"data/data.csv\")\n",
    "genre_data = pd.read_csv('data/data_by_genres.csv')\n",
    "year_data = pd.read_csv('data/data_by_year.csv')\n",
    "artist_data = pd.read_csv('data/data_by_artist.csv')"
   ]
  },
  {
   "cell_type": "markdown",
   "id": "c42da3d7",
   "metadata": {},
   "source": [
    "<h4> All Pipelines"
   ]
  },
  {
   "cell_type": "markdown",
   "id": "131c6519",
   "metadata": {},
   "source": [
    "<h4> Part 1: Genre Data <br>\n",
    "    Standardization"
   ]
  },
  {
   "cell_type": "code",
   "execution_count": null,
   "id": "99d89463",
   "metadata": {},
   "outputs": [],
   "source": [
    "genre_data.head()"
   ]
  },
  {
   "cell_type": "code",
   "execution_count": null,
   "id": "52ad46f8",
   "metadata": {
    "scrolled": true
   },
   "outputs": [],
   "source": [
    "#first pipeline sued to calculate Inertia and Silhuette Score\n",
    "start_cluster_pipeline = Pipeline([\n",
    "    ('scaler', StandardScaler()), \n",
    "    ('kmeans', KMeans(init='k-means++'))\n",
    "])\n",
    "\n",
    "#standardize genre data\n",
    "X = genre_data.select_dtypes(np.number)\n",
    "start_cluster_pipeline.fit(X)\n",
    "\n",
    "#view standardized data\n",
    "scaled_genre_data = start_cluster_pipeline.named_steps['scaler'].transform(X)\n",
    "scaled_genre_data = pd.DataFrame(scaled_genre_data, columns=[\"mode\", \"acousticness\", \"danceability\", \"duration_ms\", \"energy\", \"instrumentalness\", \"liveness\", \"loudness\", \"speechiness\", \"tempo\", \"valence\", \"popularity\", \"key\"])\n",
    "scaled_genre_data.head()"
   ]
  },
  {
   "cell_type": "code",
   "execution_count": null,
   "id": "edc2beb9",
   "metadata": {},
   "outputs": [],
   "source": [
    "#silhouette_scores for best K value\n",
    "k_values = range(2, 21)\n",
    "silhouette_scores = []\n",
    "\n",
    "for k in k_values:\n",
    "    kmeans = KMeans(n_clusters=k, init='k-means++').fit(scaled_genre_data)\n",
    "    score = silhouette_score(scaled_genre_data, kmeans.labels_)\n",
    "    silhouette_scores.append(score)\n",
    "\n",
    "kneedle = KneeLocator(k_values, silhouette_scores, curve='convex', direction='decreasing')\n",
    "silhouette_knee_point = kneedle.knee\n",
    "\n",
    "# Plot Silhouette Scores for different values of K and pinpoint Optimal K\n",
    "plt.figure(figsize=(8, 6))\n",
    "plt.plot(k_values, silhouette_scores, marker=\"o\")\n",
    "plt.title(f\"Silhouette Score Find Optimal K ( Optimal K = {silhouette_knee_point})\")\n",
    "plt.xlabel(\"Number of Clusters (K)\")\n",
    "plt.ylabel(\"Silhouette Score\")\n",
    "plt.grid(True)\n",
    "\n",
    "# The elbow point \n",
    "plt.vlines(kneedle.knee, plt.ylim()[0], plt.ylim()[1], linestyles='dashed')\n",
    "\n",
    "plt.show()"
   ]
  },
  {
   "cell_type": "code",
   "execution_count": null,
   "id": "06698e18",
   "metadata": {},
   "outputs": [],
   "source": [
    "# Inertia for best K value\n",
    "k_values = range(1, 21)\n",
    "inertia_score = []\n",
    "\n",
    "for k in k_values:\n",
    "    cluster_labels = KMeans(n_clusters=k, init='k-means++')\n",
    "    cluster_labels.fit(scaled_genre_data)\n",
    "    inertia = cluster_labels.inertia_\n",
    "    inertia_score.append(inertia)\n",
    "\n",
    "kneedle = KneeLocator(k_values, inertia_score, curve='convex', direction='decreasing')\n",
    "inertia_knee_point = kneedle.knee\n",
    "\n",
    "# Plot Inertia for different values of K and pinpoint Optimal K\n",
    "plt.figure(figsize=(8, 6))\n",
    "plt.plot(k_values, inertia_score, \"-o\")\n",
    "plt.xlabel(\"Number of Clusters (K)\")\n",
    "plt.ylabel(\"Inertia\")\n",
    "plt.title(f\"Inertia Find Optimal K ( Optimal K = {inertia_knee_point})\")\n",
    "plt.grid(True)\n",
    "\n",
    "# The elbow point \n",
    "plt.vlines(kneedle.knee, plt.ylim()[0], plt.ylim()[1], linestyles='dashed')\n",
    "plt.show()"
   ]
  },
  {
   "cell_type": "code",
   "execution_count": null,
   "id": "bb8b60de",
   "metadata": {},
   "outputs": [],
   "source": [
    "\"\"\"\n",
    "silhouette score k = 4\n",
    "Inertia k = 6\n",
    "\n",
    "Inertia doesnt have a clear elbow:\n",
    "    meaning that the data doesnt have a clear cluster-like structure\n",
    "\n",
    "Silhouette Score doesnt show a clear peak:\n",
    "    meaning that there is no obvious numbers of clusters that is best\n",
    "    \n",
    "In cases where clusters are not well-separated, the silhouette score might be low \n",
    "because points will not be much closer to their own cluster center than to others, \n",
    "even if the inertia is steadily decreasing\n",
    "\"\"\""
   ]
  },
  {
   "cell_type": "markdown",
   "id": "d0ec6dae",
   "metadata": {},
   "source": [
    "<h4> K-Means on Genres"
   ]
  },
  {
   "cell_type": "code",
   "execution_count": null,
   "id": "9164f56c",
   "metadata": {},
   "outputs": [],
   "source": [
    "#kmeans pipeline used after calculating Inertia and Silhuette Score\n",
    "kmeans_cluster_pipeline = Pipeline([\n",
    "    ('scaler', StandardScaler()), \n",
    "    ('kmeans', KMeans(n_clusters= inertia_knee_point, init='k-means++'))\n",
    "])\n",
    "\n",
    "X = genre_data.select_dtypes(np.number)\n",
    "kmeans_cluster_pipeline.fit(X)\n",
    "# centroids = kmeans_cluster_pipeline.named_steps['kmeans'].cluster_centers_\n",
    "\n",
    "genre_data['cluster'] = kmeans_cluster_pipeline.predict(X)\n",
    "genre_data.head(2)"
   ]
  },
  {
   "cell_type": "code",
   "execution_count": null,
   "id": "8b92abb5",
   "metadata": {
    "scrolled": false
   },
   "outputs": [],
   "source": [
    "# Visualizing the Clusters with t-SNE\n",
    "tsne_pipeline = Pipeline([\n",
    "    ('scaler', StandardScaler()), \n",
    "    ('tsne', TSNE(n_components=2, verbose=0))\n",
    "])\n",
    "genre_embedding = tsne_pipeline.fit_transform(X)\n",
    "projection = pd.DataFrame(columns=['x', 'y'], data=genre_embedding)\n",
    "projection['genres'] = genre_data['genres']\n",
    "projection['cluster'] = genre_data['cluster']\n",
    "\n",
    "fig = px.scatter(\n",
    "    projection, x='x', y='y', color='cluster', hover_data=['x', 'y', 'genres']\n",
    ")\n",
    "fig.show()"
   ]
  },
  {
   "cell_type": "markdown",
   "id": "db660169",
   "metadata": {},
   "source": [
    "<h4> Fuzzy C-Mean on Genres"
   ]
  },
  {
   "cell_type": "code",
   "execution_count": null,
   "id": "6037eb8b",
   "metadata": {},
   "outputs": [],
   "source": [
    "pca = PCA(n_components=2)\n",
    "principalComponents = pca.fit_transform(scaled_genre_data)\n",
    "principalComponents"
   ]
  },
  {
   "cell_type": "code",
   "execution_count": null,
   "id": "74df55e6",
   "metadata": {},
   "outputs": [],
   "source": [
    "# Apply Fuzzy C-means\n",
    "cntr, u, u0, d, jm, p, fpc = fuzz.cluster.cmeans(\n",
    "    principalComponents.T, c= inertia_knee_point, m= 3, error= 0.005, maxiter= 1000)\n",
    "\n",
    "#membership degrees and chosen cluster\n",
    "membership_degrees = u\n",
    "cluster_membership = np.argmax(u, axis=0)\n",
    "\n",
    "#projections\n",
    "projection = pd.DataFrame(columns=['x', 'y'], data= principalComponents)\n",
    "projection['genres'] = genre_data['genres']\n",
    "projection['cluster'] = genre_data['cluster']\n",
    "projection['membership'] = membership_degrees.max(axis=0)\n",
    "\n",
    "#display\n",
    "fig = px.scatter(\n",
    "    projection, \n",
    "    x= 'x', y= 'y', \n",
    "    color='membership', \n",
    "    hover_data=['x', 'y', 'genres', 'membership'],\n",
    "    color_continuous_scale=px.colors.sequential.Viridis\n",
    ")\n",
    "\n",
    "plt.title('Fuzzy C-Means on Genre with Membership Degrees')\n",
    "fig.show()"
   ]
  },
  {
   "cell_type": "code",
   "execution_count": null,
   "id": "7b5217ee",
   "metadata": {},
   "outputs": [],
   "source": [
    "\"\"\"\n",
    "THIS DOESNT WORK, TRIED MAKING FUZZY C MEAN USING PIPELINES BUT IT AINT WORKING \n",
    "IM JUST LEAVING IT HERE SO I DONT FEEL LIKE I WASTED TIME ON IT FOR NOTHING\n",
    "\"\"\"\n",
    "#preparing fcm for Pipeline\n",
    "class FuzzyCMeans(BaseEstimator, ClusterMixin):\n",
    "    def __init__(self, n_clusters=inertia_knee_point, max_iter=1000, m=3):\n",
    "        self.n_clusters = n_clusters\n",
    "        self.max_iter = max_iter\n",
    "        self.m = m\n",
    "        self.centers_ = None\n",
    "        self.u_ = None\n",
    "\n",
    "    def fit(self, X, y=None):\n",
    "        self.cntr, u, _, _, _, _, _ = cmeans(X.T, self.n_clusters, self.m, error=0.005, maxiter=self.max_iter)\n",
    "        self.u_ = u\n",
    "#         self.centers_ = u.argmax(axis=0)\n",
    "        return self\n",
    "\n",
    "    def predict(self, X):\n",
    "        u, _, _, _, _, _ = fuzz.cluster.cmeans_predict(\n",
    "            scaled_genre_data.T, self.cntr, self.m, error=0.005, maxiter=self.max_iter\n",
    "        )\n",
    "        return np.argmax(u, axis=0)\n",
    "\n",
    "fcm_pipeline = Pipeline([\n",
    "    ('scaler', StandardScaler()), \n",
    "    ('fcm', FuzzyCMeans())\n",
    "])\n",
    "\n",
    "scaled_genre_data = scaled_genre_data.select_dtypes(np.number)\n",
    "fcm_pipeline.fit(scaled_genre_data)\n",
    "\n",
    "genre_data['cluster'] = fcm_pipeline.predict(scaled_genre_data)\n",
    "\n",
    "# Visualizing the Clusters with t-SNE\n",
    "tsne_pipeline = Pipeline([\n",
    "    ('scaler', StandardScaler()), \n",
    "    ('tsne', TSNE(n_components=2, verbose=0))\n",
    "])\n",
    "\n",
    "genre_embedding = tsne_pipeline.fit_transform(X)\n",
    "projection = pd.DataFrame(columns=['x', 'y'], data=genre_embedding)\n",
    "projection['genres'] = genre_data['genres']\n",
    "projection['cluster'] = genre_data['cluster']\n",
    "\n",
    "fig = px.scatter(\n",
    "    projection, x='x', y='y', color='cluster', hover_data=['x', 'y', 'genres']\n",
    ")\n",
    "fig.show()"
   ]
  },
  {
   "cell_type": "markdown",
   "id": "3942c803",
   "metadata": {},
   "source": [
    "<h4> DBSCAN on Genres"
   ]
  },
  {
   "cell_type": "code",
   "execution_count": null,
   "id": "0aaa4632",
   "metadata": {},
   "outputs": [],
   "source": []
  },
  {
   "cell_type": "code",
   "execution_count": null,
   "id": "ece17d6e",
   "metadata": {},
   "outputs": [],
   "source": []
  },
  {
   "cell_type": "code",
   "execution_count": null,
   "id": "8adeb348",
   "metadata": {},
   "outputs": [],
   "source": []
  },
  {
   "cell_type": "code",
   "execution_count": null,
   "id": "1b86238a",
   "metadata": {},
   "outputs": [],
   "source": []
  },
  {
   "cell_type": "code",
   "execution_count": null,
   "id": "88695838",
   "metadata": {},
   "outputs": [],
   "source": []
  },
  {
   "cell_type": "code",
   "execution_count": null,
   "id": "412fdebc",
   "metadata": {},
   "outputs": [],
   "source": []
  },
  {
   "cell_type": "markdown",
   "id": "f636fb08",
   "metadata": {},
   "source": [
    "<h4> Part 2: Artist Data<br>\n",
    "    Standardization "
   ]
  },
  {
   "cell_type": "code",
   "execution_count": null,
   "id": "2d9eb96f",
   "metadata": {},
   "outputs": [],
   "source": [
    "artist_data.head()"
   ]
  },
  {
   "cell_type": "code",
   "execution_count": null,
   "id": "39a1210f",
   "metadata": {},
   "outputs": [],
   "source": [
    "X = artist_data.select_dtypes(np.number)\n",
    "kmeans_cluster_pipeline.fit(X)\n",
    "\n",
    "#view standardized data\n",
    "scaled_artist_data = kmeans_cluster_pipeline.named_steps['scaler'].transform(X)\n",
    "scaled_artist_data = pd.DataFrame(scaled_artist_data, columns=[\"mode\", \"count\", \"acousticness\", \"danceability\", \"duration_ms\", \"energy\", \"instrumentalness\", \"liveness\", \"loudness\", \"speechiness\", \"tempo\", \"valence\", \"popularity\", \"key\"])\n",
    "scaled_artist_data.head()"
   ]
  },
  {
   "cell_type": "markdown",
   "id": "97920964",
   "metadata": {},
   "source": [
    "<h4> K-Means on Artist"
   ]
  },
  {
   "cell_type": "code",
   "execution_count": null,
   "id": "3d825398",
   "metadata": {},
   "outputs": [],
   "source": [
    "#use created pipline and apply it on Artist Data\n",
    "\n",
    "X = artist_data.select_dtypes(np.number)\n",
    "kmeans_cluster_pipeline.fit(X)\n",
    "centroids = kmeans_cluster_pipeline.named_steps['kmeans'].cluster_centers_\n",
    "\n",
    "artist_data['cluster'] = kmeans_cluster_pipeline.predict(X)\n",
    "artist_data.head(2)"
   ]
  },
  {
   "cell_type": "code",
   "execution_count": null,
   "id": "d2c2392d",
   "metadata": {},
   "outputs": [],
   "source": [
    "# Visualizing the Clusters with t-SNE\n",
    "artist_embedding = tsne_pipeline.fit_transform(X)\n",
    "projection = pd.DataFrame(columns=['x', 'y'], data=artist_embedding)\n",
    "projection['artists'] = artist_data['artists']\n",
    "projection['cluster'] = artist_data['cluster']\n",
    "\n",
    "fig = px.scatter(\n",
    "    projection, x='x', y='y', color='cluster', hover_data=['x', 'y', 'artists']\n",
    ")\n",
    "fig.show()"
   ]
  },
  {
   "cell_type": "markdown",
   "id": "d196ecf1",
   "metadata": {},
   "source": [
    "<h4> Kmeans on Songs"
   ]
  },
  {
   "cell_type": "code",
   "execution_count": null,
   "id": "1b13ce98",
   "metadata": {},
   "outputs": [],
   "source": [
    "X = data.select_dtypes(np.number)\n",
    "kmeans_cluster_pipeline.fit(X)\n",
    "song_cluster_labels = kmeans_cluster_pipeline.predict(X)\n",
    "\n",
    "data[\"cluster_label\"] = song_cluster_labels\n",
    "data.head(2)"
   ]
  },
  {
   "cell_type": "code",
   "execution_count": null,
   "id": "af9dc765",
   "metadata": {},
   "outputs": [],
   "source": [
    "# Visualizing the Clusters with t-SNE\n",
    "song_embedding = tsne_pipeline.fit_transform(X)\n",
    "projection = pd.DataFrame(columns=[\"x\", \"y\"], data = song_embedding)\n",
    "projection[\"artists\"] = data[\"artists\"]\n",
    "projection[\"song\"] = data[\"name\"]\n",
    "projection[\"cluster\"] = data[\"cluster_label\"]\n",
    "\n",
    "fig = px.scatter(\n",
    "    projection, x=\"x\", y=\"y\", color=\"cluster\", hover_data=[\"x\", \"y\", \"artists\", \"song\"]\n",
    ")\n",
    "fig.show()"
   ]
  },
  {
   "cell_type": "markdown",
   "id": "3e28f82a",
   "metadata": {},
   "source": [
    "<h3> Recommendation System using Spotify API"
   ]
  },
  {
   "cell_type": "code",
   "execution_count": null,
   "id": "e7732557",
   "metadata": {},
   "outputs": [],
   "source": [
    "#imports\n",
    "import spotipy\n",
    "from spotipy.oauth2 import SpotifyClientCredentials\n",
    "from collections import defaultdict\n",
    "import os\n",
    "from dotenv import load_dotenv, find_dotenv\n",
    "_ = load_dotenv(find_dotenv())\n",
    "\n",
    "CLIENT_ID = os.getenv(\"CLIENT_ID\")\n",
    "CLIENT_SECRET = os.getenv(\"CLIENT_SECRET\")\n",
    "\n",
    "sp = spotipy.Spotify(auth_manager=SpotifyClientCredentials(client_id=CLIENT_ID, \n",
    "                                                           client_secret=CLIENT_SECRET))"
   ]
  },
  {
   "cell_type": "code",
   "execution_count": null,
   "id": "21c7bbf5",
   "metadata": {},
   "outputs": [],
   "source": [
    "#This will return None if the data of the song isnt found\n",
    "\n",
    "#find song using spotify search\n",
    "def find_song(name, year):\n",
    "    song_data = defaultdict()\n",
    "    results = sp.search(q= f'track: {name} year: {year}')\n",
    "    if results['tracks']['items'] == []:\n",
    "        return None\n",
    "\n",
    "    results = results['tracks']['items'][0]\n",
    "    track_id = results['id']\n",
    "    audio_features = sp.audio_features(track_id)[0]\n",
    "\n",
    "    song_data['name'] = [name]\n",
    "    song_data['year'] = [year]\n",
    "    song_data['explicit'] = [int(results['explicit'])]\n",
    "    song_data['duration_ms'] = [results['duration_ms']]\n",
    "    song_data['popularity'] = [results['popularity']]\n",
    "\n",
    "    for key, value in audio_features.items():\n",
    "        song_data[key] = value\n",
    "\n",
    "    return pd.DataFrame(song_data)\n",
    "\n",
    "number_cols = ['valence', 'year', 'acousticness', 'danceability', 'duration_ms', 'energy', 'explicit',\n",
    " 'instrumentalness', 'key', 'liveness', 'loudness', 'mode', 'popularity', 'speechiness', 'tempo']\n",
    "\n",
    "#check if song is in dataset, if not, check spotify\n",
    "def get_song_data(song, spotify_data):\n",
    "    try:\n",
    "        song_data = spotify_data[(spotify_data['name'] == song['name']) & (spotify_data['year'] == song['year'])].iloc[0]\n",
    "        return song_data\n",
    "    \n",
    "    except IndexError:\n",
    "        return find_song(song['name'], song['year'])\n",
    "    \n",
    "def get_mean_vector(song_list, spotify_data):\n",
    "    song_vectors = []\n",
    "    \n",
    "    for song in song_list:\n",
    "        song_data = get_song_data(song, spotify_data)\n",
    "        if song_data is None:\n",
    "            print(f\"Warning: {song['name']} does not exist in Spotify or in dataset\")\n",
    "            continue\n",
    "        song_vector = song_data[number_cols].values\n",
    "        song_vectors.append(song_vector)  \n",
    "    \n",
    "    song_matrix = np.array(list(song_vectors))\n",
    "    return np.mean(song_matrix, axis=0)\n",
    "\n",
    "def flatten_dict_list(dict_list):\n",
    "    flattened_dict = defaultdict()\n",
    "    for key in dict_list[0].keys():\n",
    "        flattened_dict[key] = []\n",
    "    \n",
    "    for dictionary in dict_list:\n",
    "        for key, value in dictionary.items():\n",
    "            flattened_dict[key].append(value)\n",
    "            \n",
    "    return flattened_dict\n",
    "\n",
    "\n",
    "def recommend_songs( song_list, spotify_data, n_songs=5):\n",
    "    metadata_cols = [\"name\", \"year\", \"artists\", \"cluster_label\"]\n",
    "    song_dict = flatten_dict_list(song_list)\n",
    "    \n",
    "    song_center = get_mean_vector(song_list, spotify_data)\n",
    "    \n",
    "    # CHANGE THIS TO WHATEVER CLUSTERING PIPELINE YOU WANT\n",
    "    scaler = kmeans_cluster_pipeline.steps[0][1]\n",
    "    \n",
    "    scaled_data = scaler.transform(spotify_data[number_cols])\n",
    "    scaled_song_center = scaler.transform(song_center.reshape(1, -1))\n",
    "    distances = cdist(scaled_song_center, scaled_data, 'cosine')\n",
    "    index = list(np.argsort(distances)[:, :n_songs][0])\n",
    "    rec_songs = spotify_data.iloc[index]\n",
    "    return rec_songs[metadata_cols]"
   ]
  },
  {
   "cell_type": "code",
   "execution_count": null,
   "id": "a561efef",
   "metadata": {},
   "outputs": [],
   "source": [
    "#how artists column data looks like\n",
    "print(data[\"artists\"][0])\n",
    "\n",
    "data[data[\"artists\"] == \"['Eminem']\"].head()"
   ]
  },
  {
   "cell_type": "code",
   "execution_count": null,
   "id": "29f1f19d",
   "metadata": {},
   "outputs": [],
   "source": [
    "recommend_songs([\n",
    "    {'name': 'The Real Slim Shady', 'year':2000},\n",
    "    {'name': 'My Name Is', 'year':1999},\n",
    "    {'name': \"Role Model\", 'year':1999},\n",
    "    {'name': 'The Way I Am', 'year':2000},\n",
    "    {'name': 'Believe', 'year':2017},\n",
    "    {'name': 'Darkness', 'year':2017},\n",
    "    {'name': 'Evil Twin', 'year':2013},\n",
    "    {'name': 'So Much Better', 'year':2013},\n",
    "    \n",
    "], data, n_songs = 10)"
   ]
  },
  {
   "cell_type": "code",
   "execution_count": null,
   "id": "1ba34e05",
   "metadata": {},
   "outputs": [],
   "source": []
  },
  {
   "cell_type": "code",
   "execution_count": null,
   "id": "71787a63",
   "metadata": {},
   "outputs": [],
   "source": []
  },
  {
   "cell_type": "code",
   "execution_count": null,
   "id": "e1075ca9",
   "metadata": {},
   "outputs": [],
   "source": []
  },
  {
   "cell_type": "code",
   "execution_count": null,
   "id": "73492a19",
   "metadata": {},
   "outputs": [],
   "source": []
  },
  {
   "cell_type": "code",
   "execution_count": null,
   "id": "9002791b",
   "metadata": {},
   "outputs": [],
   "source": []
  },
  {
   "cell_type": "code",
   "execution_count": null,
   "id": "8b331ea9",
   "metadata": {},
   "outputs": [],
   "source": []
  },
  {
   "cell_type": "code",
   "execution_count": null,
   "id": "af6e1081",
   "metadata": {},
   "outputs": [],
   "source": []
  }
 ],
 "metadata": {
  "kernelspec": {
   "display_name": "Python 3",
   "language": "python",
   "name": "python3"
  },
  "language_info": {
   "codemirror_mode": {
    "name": "ipython",
    "version": 3
   },
   "file_extension": ".py",
   "mimetype": "text/x-python",
   "name": "python",
   "nbconvert_exporter": "python",
   "pygments_lexer": "ipython3",
   "version": "3.6.13"
  }
 },
 "nbformat": 4,
 "nbformat_minor": 5
}
